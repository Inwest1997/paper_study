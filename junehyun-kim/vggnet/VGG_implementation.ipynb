{
  "nbformat": 4,
  "nbformat_minor": 0,
  "metadata": {
    "colab": {
      "private_outputs": true,
      "provenance": [],
      "collapsed_sections": []
    },
    "kernelspec": {
      "name": "python3",
      "display_name": "Python 3"
    },
    "language_info": {
      "name": "python"
    }
  },
  "cells": [
    {
      "cell_type": "markdown",
      "source": [
        "# Why is 3x3 Filter Better than 7x7 Filter?\n",
        "-> **weight(parameter 갯수) 차이 때문**\n",
        "->(3x3 3개 =) 3*3*3 = 27,(7x7 1개=)7*7 = 49\n",
        "\n",
        "27<49 이고, CNN에서 가중치는 모두 훈련이 필요한 것들이므로, \n",
        "\n",
        "**가중치 적다? = 훈련시킬 파라미터 적다 = 학습속도가 빨라진다 = 층의 갯수가 늘어나면서 feature의 비선형성을 증가시켜준다**"
      ],
      "metadata": {
        "id": "OucIGOBzG1kK"
      }
    },
    {
      "cell_type": "code",
      "execution_count": null,
      "metadata": {
        "id": "wJ-pZnVSzB0c"
      },
      "outputs": [],
      "source": [
        "import numpy as np\n",
        "import matplotlib.pyplot as plt\n",
        "import cv2\n",
        "alpha = plt.imread('/content/vgvg.PNG')\n",
        "delta = cv2.resize(alpha , (1000,1000))\n",
        "plt.figure(figsize=(100,100))\n",
        "plt.imshow(delta)\n",
        "plt.show()"
      ]
    },
    {
      "cell_type": "code",
      "source": [
        "import torch.nn as nn\n",
        "import torch.nn.init as init\n",
        "import math"
      ],
      "metadata": {
        "id": "1i8cKYAOzdp9"
      },
      "execution_count": null,
      "outputs": []
    },
    {
      "cell_type": "code",
      "source": [
        "class VGG(nn.module):\n",
        "    def __init__(self, features):\n",
        "        super(VGG , self).__init__()\n",
        "        self.features = features\n",
        "        self.classifier = nn.Sequential(\n",
        "                nn.Dropout(),\n",
        "                nn.Linear(512,512),\n",
        "                nn.ReLU(True),\n",
        "                nn.Dropout(),\n",
        "                nn.Linear(512,512),\n",
        "                nn.ReLU(True),\n",
        "                nn.Linear(512,10),\n",
        "        )\n",
        "        for i in self.modules():\n",
        "            if isinstance(i , nn.Conv2d):\n",
        "                n = i.kernel_size[0]*i.kernel_size[1]*i.out_channels\n",
        "                i.weight.data.normal_(0,math.sqrt(2. /n))\n",
        "                i.bias.data.zero_()\n",
        "    def forward(self, x):\n",
        "        x = self.features(x)\n",
        "        x = x.view(x.size(0), -1)\n",
        "        x = self.classifier(x)\n",
        "        return x"
      ],
      "metadata": {
        "id": "jRPT_QQy4DyG"
      },
      "execution_count": null,
      "outputs": []
    }
  ]
}